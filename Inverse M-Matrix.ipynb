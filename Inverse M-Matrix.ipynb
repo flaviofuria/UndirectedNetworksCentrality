{
 "cells": [
  {
   "cell_type": "code",
   "execution_count": 1,
   "id": "smart-chapter",
   "metadata": {},
   "outputs": [],
   "source": [
    "import graph_handling as gh\n",
    "import centralities\n",
    "from pprint import pprint\n",
    "\n",
    "import random\n",
    "import networkx as nx\n",
    "import numpy as np\n",
    "import math\n",
    "import centralities"
   ]
  },
  {
   "cell_type": "markdown",
   "id": "accompanied-grace",
   "metadata": {},
   "source": [
    "<h1>Random Graph Creation</h1>"
   ]
  },
  {
   "cell_type": "markdown",
   "id": "funded-chicago",
   "metadata": {},
   "source": [
    "In this brief work we will try to apply some of the results obtained in the article \"*Inverse M-Matrix Inequalities and Generalized Ultrametric Matrices*\" (J.J.McDonald, M.Neumann, H.Schneider, M.J.Tsatsomeros, 1995) hold for random graphs that we are going to automatically create using Networkx.<br>\n",
    "In particular, at each iteration we will deal with two graphs that have a random number of nodes but just differ for a single edge: the first graph is made of a strongly connected component and a single node connected to a clique of random size; the other graph is equal to the first one, but we link the first component to the single node."
   ]
  },
  {
   "cell_type": "code",
   "execution_count": 3,
   "id": "historic-belle",
   "metadata": {},
   "outputs": [
    {
     "data": {
      "image/png": "[encoded data removed]",
      "text/plain": [
       "<Figure size 432x288 with 1 Axes>"
      ]
     },
     "metadata": {},
     "output_type": "display_data"
    }
   ],
   "source": [
    "n, a = 10, 0.85\n",
    "g, ng = gh.random_graphs(n)\n",
    "x, y = random.sample(g.nodes, k=1)[0], max(g.nodes)+1\n",
    "k, starting_node = 1, y\n",
    "\n",
    "g.add_node(y)\n",
    "ng = g.copy(y)\n",
    "ng.add_edge(x, y)\n",
    "g = gh.add_clique(g, k, y)\n",
    "ng = gh.add_clique(ng, k, y)\n",
    "gh.show(g, x, y)\n",
    "    \n",
    "n = len(g.nodes)"
   ]
  },
  {
   "cell_type": "markdown",
   "id": "twelve-adams",
   "metadata": {},
   "source": [
    "<h1>PageRank Matrix and Symmetrized PageRank Matrix</h1>\n",
    "$\\;A\\;$ and $\\;A'\\;$ are the adjacency matrix of the graph before and adding the edge.<br>\n",
    "$\\;\\overline{A}\\;$ and $\\;\\overline{A'}\\;$ are the normalized ones, while $\\;\\alpha\\;$ is the damping factor.<br>\n",
    "$B=(1-\\alpha\\overline{A})\\;$ and $\\;B'=(1-\\alpha\\overline{A'})\\;$ are the PageRank matrices.<br>\n",
    "$\\;\\tfrac{1}{\\alpha}\\Delta\\;$ and $\\;\\tfrac{1}{\\alpha}\\Delta'\\;$ are the diagonal matrices, such that $\\;\\frac{1}{\\alpha}\\Delta B\\;$ and $\\;\\tfrac{1}{\\alpha}\\Delta'B'\\;$ are symmetric.<br>\n",
    "In particular, $\\;\\tfrac{1}{\\alpha}\\Delta=diag\\left(\\tfrac{d_{0}}{\\alpha},\\dots,\\tfrac{d_{n-1}}{\\alpha}\\right),\\;$ with $\\;d_{i}\\;$ being the degree of node $i$. The same holds for $\\;\\tfrac{1}{\\alpha}\\Delta'.\\;$"
   ]
  },
  {
   "cell_type": "code",
   "execution_count": 4,
   "id": "rotary-honolulu",
   "metadata": {},
   "outputs": [],
   "source": [
    "A, A_norm = gh.adj_mat(g, False), gh.adj_mat(g, True)\n",
    "new_A, new_A_norm = gh.adj_mat(ng, False), gh.adj_mat(ng, True)\n",
    "\n",
    "B = np.identity(n) - a*A_norm\n",
    "new_B = np.identity(n) - a*new_A_norm\n",
    "\n",
    "D = np.diag([(A[d]>0).sum()/a for d in range(len(A))])\n",
    "new_D = np.diag([(new_A[d]>0).sum()/a for d in range(len(new_A))])\n",
    "\n",
    "for matrix in [B, new_B, D, new_D]:\n",
    "    try:\n",
    "        np.linalg.inv(matrix)\n",
    "    except:\n",
    "        print('singular matrix')\n",
    "\n",
    "if not np.isclose(np.dot(D, B),(np.dot(D, B)).T, rtol=1e-10).any() or not np.isclose(np.dot(new_D, new_B),(np.dot(new_D, new_B)).T, rtol=1e-10).any():\n",
    "    print('error')"
   ]
  },
  {
   "cell_type": "markdown",
   "id": "convertible-hypothesis",
   "metadata": {},
   "source": [
    "We have just proved that $\\;\\Delta B\\;$ and $\\;\\Delta'B'\\;$ are **symmetric**."
   ]
  },
  {
   "cell_type": "code",
   "execution_count": 5,
   "id": "accepted-andorra",
   "metadata": {},
   "outputs": [],
   "source": [
    "if not np.isclose(np.dot(D, B), D - A, rtol=1e-10).any() or not np.isclose(np.dot(new_D, new_B), new_D - new_A, rtol=1e-10).any():\n",
    "    print('error')"
   ]
  },
  {
   "cell_type": "markdown",
   "id": "elder-parcel",
   "metadata": {},
   "source": [
    "We have also proved that $\\;\\;\\tfrac{1}{\\alpha}\\Delta B=\\tfrac{1}{\\alpha}\\Delta-A\\;\\;$ and $\\;\\;\\tfrac{1}{\\alpha}\\Delta'B'=\\tfrac{1}{\\alpha}\\Delta'-A'.$"
   ]
  },
  {
   "cell_type": "markdown",
   "id": "accurate-growth",
   "metadata": {},
   "source": [
    "<h1>Row Diagonally Dominance</h1>"
   ]
  },
  {
   "cell_type": "markdown",
   "id": "clinical-metadata",
   "metadata": {},
   "source": [
    "Now we want to gain information about $\\;M^{-1}=(\\frac{1}{\\alpha}\\Delta B)^{-1}.\\;$ and $\\;M'^{-1}.\\;$ Being symmetric inverse M-matrices, we have a lot of properties to look at: first we check if $\\;M\\;$ and $\\;M'\\;$ are **strictly row diagonally dominant**."
   ]
  },
  {
   "cell_type": "code",
   "execution_count": 6,
   "id": "digital-restaurant",
   "metadata": {},
   "outputs": [],
   "source": [
    "M, new_M = np.dot(D, B), np.dot(new_D, new_B)\n",
    "inv_M, new_inv_M = np.linalg.inv(np.dot(D, B)), np.linalg.inv(np.dot(new_D, new_B))\n",
    "\n",
    "row_sum = np.sum(M, axis=1)\n",
    "new_row_sum = np.sum(new_M, axis=1)\n",
    "\n",
    "for i in range(len(row_sum)):\n",
    "    if not abs(M[i][i]) > abs(row_sum[i]) - abs(M[i][i]):\n",
    "        print('M is not strictly row diagonally dominant')\n",
    "for i in range(len(new_row_sum)):\n",
    "    if not abs(new_M[i][i]) > abs(row_sum[i]) - abs(new_M[i][i]):\n",
    "        print('new M is not row diagonally dominant')"
   ]
  },
  {
   "cell_type": "markdown",
   "id": "acoustic-rabbit",
   "metadata": {},
   "source": [
    "We have just shown that $\\;m_{ii}>\\sum_{j=1, i\\neq j}^{j=n} m_{ij}.\\;$ The same holds for $\\;M'.\\;$ This means that both are strictly row (and column) diagonally dominant."
   ]
  },
  {
   "cell_type": "code",
   "execution_count": 7,
   "id": "checked-master",
   "metadata": {},
   "outputs": [],
   "source": [
    "for i in range(np.shape(inv_M)[1]):\n",
    "    for j in range(np.shape(inv_M)[0]):\n",
    "        if i!=j and inv_M[i][i] <  inv_M[j][i]:\n",
    "            print('one element of M diagonal is less than one element that is not in the diagonal')\n",
    "            break\n",
    "        elif i!=j and inv_M[i][i] == inv_M[j][i]:\n",
    "            print('one element of M diagonal is equal to one element that is not in the diagonal')\n",
    "            break\n",
    "\n",
    "for i in range(np.shape(new_inv_M)[1]):\n",
    "    for j in range(np.shape(new_inv_M)[0]):\n",
    "        if i!=j and new_inv_M[i][i] <  new_inv_M[j][i]:\n",
    "            print('one element of new M diagonal is less than one element that is not in the diagonal')\n",
    "            break\n",
    "        elif i!=j and new_inv_M[i][i] == new_inv_M[j][i]:\n",
    "            print('one element of new M diagonal is equal to one element that is not in the diagonal')\n",
    "            break"
   ]
  },
  {
   "cell_type": "markdown",
   "id": "small-cradle",
   "metadata": {},
   "source": [
    "Here we compared the diagonal of $\\;M^{-1}\\;$ with element in the same row (and column, but the matrix is symmetric) and looked that $\\;\\;m^{-1}_{ii}>m^{-1}_{ij}>m^{-1}_{ji}\\;\\;\\forall\\;\\;j\\neq i.\\;$ The same holds for $\\;M'^{-1}.\\;$<br><br>\n",
    "\n",
    "This follows from the **3.2 theorem** and **3.3 remark**."
   ]
  },
  {
   "cell_type": "code",
   "execution_count": 8,
   "id": "dominican-pharmacy",
   "metadata": {},
   "outputs": [],
   "source": [
    "if (np.diag(new_inv_M) >= np.diag(inv_M)).any():\n",
    "    print('diagonal of new inverse of M is greater than diagonal of inverse of M')"
   ]
  },
  {
   "cell_type": "markdown",
   "id": "mysterious-rwanda",
   "metadata": {},
   "source": [
    "Here, instead, we showed that $\\;m'^{-1}_{ii}<m^{-1}_{ii}\\;\\;\\forall\\;i=1,\\dots,n.\\;$ This means that the **new diagonal is strictly less than the old one**."
   ]
  },
  {
   "cell_type": "code",
   "execution_count": 9,
   "id": "attempted-nelson",
   "metadata": {},
   "outputs": [],
   "source": [
    "for j in range(inv_M.shape[0]):\n",
    "    for k in range(inv_M.shape[0]):\n",
    "        for i in range(inv_M.shape[0]):\n",
    "            if i!=j and i!=k and j!=k:\n",
    "                if gh.access_to(g, j, k, i) and not (np.round(inv_M[j][k], 10) > np.round((inv_M[j][i] * inv_M[i][k]) / inv_M[i][i], 10)):\n",
    "                    print('j has access to k in g without passing through i but strict inequality does not hold')\n",
    "                    stop = 0\n",
    "                    break\n",
    "                elif not(gh.access_to(g, j, k, i)) and not (np.round(inv_M[j][k], 10) == np.round((inv_M[j][i] * inv_M[i][k]) / inv_M[i][i], 10)):\n",
    "                    print('j has not access to k in gwithout passing through i but equation does not hold')\n",
    "                    stop = 0\n",
    "                    break\n",
    "                elif (np.round(inv_M[j][k], 10) < np.round((inv_M[j][i] * inv_M[i][k]) / inv_M[i][i], 10)):\n",
    "                    print('inequality does not hold at all')\n",
    "                    stop = 0\n",
    "                    break\n",
    "\n",
    "for j in range(new_inv_M.shape[0]):\n",
    "    for k in range(new_inv_M.shape[0]):\n",
    "        for i in range(new_inv_M.shape[0]):\n",
    "            if i!=j and i!=k and j!=k:\n",
    "                if gh.access_to(ng, j, k, i) and not (np.round(new_inv_M[j][k], 10) > np.round((new_inv_M[j][i] * new_inv_M[i][k]) / new_inv_M[i][i], 10)):\n",
    "                    print('j has access to k without passing through i in ng but strict inequality does not hold')\n",
    "                    stop = 0\n",
    "                    break\n",
    "                elif not(gh.access_to(ng, j, k, i)) and not (np.round(new_inv_M[j][k], 10) == np.round((new_inv_M[j][i] * new_inv_M[i][k]) / new_inv_M[i][i], 10)):\n",
    "                    print('j has not access to k without passing through i in ng but equation does not hold')\n",
    "                    stop = 0\n",
    "                    break\n",
    "                elif (np.round(new_inv_M[j][k], 10) < np.round((new_inv_M[j][i] * new_inv_M[i][k]) / new_inv_M[i][i], 10)):\n",
    "                    print('inequality does not hold at all')\n",
    "                    stop = 0\n",
    "                    break"
   ]
  },
  {
   "cell_type": "markdown",
   "id": "controlled-design",
   "metadata": {},
   "source": [
    "This last step shows that for all distinct $i$, $j$, $k$, it holds that $\\;m^{-1}_{jk}\\geq \\tfrac{m^{-1}_{ji}m^{-1}_{ik}}{m^{-1}_{ii}},\\;$ with strict inequality if $j$ has access to $k$ without passing through $i$. Of course, it also holds for $\\;M'^{-1}.$<br><br>\n",
    "\n",
    "This follows from **3.9 theorem**."
   ]
  },
  {
   "cell_type": "code",
   "execution_count": 10,
   "id": "local-exhibition",
   "metadata": {},
   "outputs": [],
   "source": [
    "for j in range(inv_M.shape[0]):\n",
    "    for k in range(inv_M.shape[0]):\n",
    "        for i in range(inv_M.shape[0]):\n",
    "            if i!=j and i!=k and j!=k:\n",
    "                if inv_M[i][i] == inv_M[j][i]:\n",
    "                    if gh.has_access_to(g, j, k, i) and not (np.round(inv_M[j][k]) == np.round(inv_M[i][k])):\n",
    "                        print('j has access to k in g without passing through i but equality does not hold')\n",
    "                    if not gh.has_access_to(g, j, k, i) and not (np.round(inv_M[j][k]) > np.round(inv_M[i][k])):\n",
    "                        print('j does not have acces to k in g without passing through i but strict inequality does not hold')\n",
    "                    else:\n",
    "                        print('something is not working')\n",
    "                elif inv_M[i][i] == inv_M[i][k]:\n",
    "                    if gh.has_access_to(g, j, k, i) and not (np.round(inv_M[j][k]) == np.round(inv_M[j][i])):\n",
    "                        print('j has access to k in g without passing through i but equality does not hold')\n",
    "                    if not gh.has_access_to(g, j, k, i) and not (np.round(inv_M[j][k]) > np.round(inv_M[j][i])):\n",
    "                        print('j does not have acces to k in g without passing through i but strict inequality does not hold')\n",
    "                    else:\n",
    "                        print('something is not working')                    \n",
    "                    \n",
    "for j in range(new_inv_M.shape[0]):\n",
    "    for k in range(new_inv_M.shape[0]):\n",
    "        for i in range(new_inv_M.shape[0]):\n",
    "            if i!=j and i!=k and j!=k:\n",
    "                if new_inv_M[i][i] == new_inv_M[j][i]:\n",
    "                    if gh.has_access_to(ng, j, k, i) and not (np.round(new_inv_M[j][k]) == np.round(new_inv_M[i][k])):\n",
    "                        print('j has access to k in g without passing through i but equality does not hold')\n",
    "                    if not gh.has_access_to(ng, j, k, i) and not (np.round(new_inv_M[j][k]) > np.round(new_inv_M[i][k])):\n",
    "                        print('j does not have acces to k in g without passing through i but strict inequality does not hold')\n",
    "                    else:\n",
    "                        print('something is not working')\n",
    "                elif new_inv_M[i][i] == new_inv_M[i][k]:\n",
    "                    if gh.has_access_to(ng, j, k, i) and not (np.round(new_inv_M[j][k]) == np.round(new_inv_M[j][i])):\n",
    "                        print('j has access to k in g without passing through i but equality does not hold')\n",
    "                    if not gh.has_access_to(ng, j, k, i) and not (np.round(new_inv_M[j][k]) > np.round(new_inv_M[j][i])):\n",
    "                        print('j does not have acces to k in g without passing through i but strict inequality does not hold')\n",
    "                    else:\n",
    "                        print('something is not working')  "
   ]
  },
  {
   "cell_type": "markdown",
   "id": "monetary-electric",
   "metadata": {},
   "source": [
    "Here we showed that for all distinct $i$, $j$, $k$, it holds that if $\\;m^{-1}_{ii}=m^{-1}_{ji}\\;$ then $\\;m^{-1}_{jk}\\geq m^{-1}_{ik},\\;$ with strict inequality if $j$ has access to $k$ without passing through $i$.<br>\n",
    "Instead, if $\\;m^{-1}_{ii}=m^{-1}_{ik},\\;$ then $\\;m^{-1}_{jk}=m^{-1}_{ji},\\;$ with strict inequality if $j$ has access to $k$ without passing through $i$. Of course, it also holds for $\\;M'^{-1}.$<br><br>\n",
    "\n",
    "This follows from **3.10 corollary**."
   ]
  },
  {
   "cell_type": "markdown",
   "id": "amateur-karma",
   "metadata": {},
   "source": [
    "<h1>Suming up</h1><br>\n",
    "In the following step we sum up everything, creating random graphs and looking if all of them satisfy the properties we have just presented."
   ]
  },
  {
   "cell_type": "code",
   "execution_count": 13,
   "id": "employed-yahoo",
   "metadata": {
    "scrolled": true
   },
   "outputs": [],
   "source": [
    "stop = 0\n",
    "iterations = 0\n",
    "\n",
    "while(stop and iterations<1000):  \n",
    "    \n",
    "    n, a = np.random.randint(3, 10), 0.85\n",
    "    g, ng = gh.random_graphs(n)\n",
    "    x, y = random.sample(g.nodes, k=1)[0], max(g.nodes)+1\n",
    "    starting_node = y\n",
    "    k = np.random.randint(1,3)\n",
    "    # k = 1\n",
    "    g.add_node(y)\n",
    "    ng = g.copy(y)\n",
    "    ng.add_edge(x, y)\n",
    "    # gh.show(g, x, y)\n",
    "    g = gh.add_clique(g, k, y)\n",
    "    ng = gh.add_clique(ng, k, y)\n",
    "    # gh.show(g, x, y)\n",
    "    \n",
    "    if nx.is_connected(g) or not nx.is_connected(ng):\n",
    "        print('graph creation error')\n",
    "    \n",
    "    n = len(g.nodes)\n",
    "\n",
    "    A, A_norm = gh.adj_mat(g, False), gh.adj_mat(g, True)\n",
    "    new_A, new_A_norm = gh.adj_mat(ng, False), gh.adj_mat(ng, True)\n",
    "\n",
    "    B = np.identity(n) - a*A_norm\n",
    "    new_B = np.identity(n) - a*new_A_norm\n",
    "\n",
    "    D = np.diag([(A[d]>0).sum()/a for d in range(len(A))])\n",
    "    new_D = np.diag([(new_A[d]>0).sum()/a for d in range(len(new_A))])\n",
    "\n",
    "    M, new_M = np.dot(D, B), np.dot(new_D, new_B)\n",
    "    inv_M, new_inv_M = np.linalg.inv(np.dot(D, B)), np.linalg.inv(np.dot(new_D, new_B))\n",
    "\n",
    "    row_sum = np.sum(M, axis=1)\n",
    "    new_row_sum = np.sum(new_M, axis=1)\n",
    "    \n",
    "    for i in range(len(row_sum)):\n",
    "        if not abs(M[i][i]) > abs(row_sum[i]) - abs(M[i][i]):\n",
    "            print('M is not strictly row diagonally dominant')\n",
    "            stop = 0\n",
    "    for i in range(len(new_row_sum)):\n",
    "        if not abs(new_M[i][i]) > abs(row_sum[i]) - abs(new_M[i][i]):\n",
    "            print('new M is not row diagonally dominant')\n",
    "            stop = 0\n",
    "            \n",
    "    for i in range(np.shape(inv_M)[1]):\n",
    "        for j in range(np.shape(inv_M)[0]):\n",
    "            if i!=j and inv_M[i][i] <  inv_M[j][i]:\n",
    "                print('one element of M diagonal is less than one element that is not in the diagonal')\n",
    "                stop = 0\n",
    "            elif i!=j and inv_M[i][i] == inv_M[j][i]:\n",
    "                print('one element of M diagonal is equal to one element that is not in the diagonal')\n",
    "                stop = 0\n",
    "\n",
    "    for i in range(np.shape(new_inv_M)[1]):\n",
    "        for j in range(np.shape(new_inv_M)[0]):\n",
    "            if i!=j and new_inv_M[i][i] <  new_inv_M[j][i]:\n",
    "                print('one element of new M diagonal is less than one element that is not in the diagonal')\n",
    "                stop = 0\n",
    "            elif i!=j and new_inv_M[i][i] == new_inv_M[j][i]:\n",
    "                print('one element of new M diagonal is equal to one element that is not in the diagonal')\n",
    "                stop = 0\n",
    "                                \n",
    "    if (np.diag(new_inv_M) >= np.diag(inv_M)).any():\n",
    "        print('diagonal of new inverse of M is greater than diagonal of inverse of M') \n",
    "        stop = 0\n",
    "    \n",
    "    for j in range(inv_M.shape[0]):\n",
    "        for k in range(inv_M.shape[0]):\n",
    "            for i in range(inv_M.shape[0]):\n",
    "                if i!=j and i!=k and j!=k:\n",
    "                    if gh.access_to(g, j, k, i) and not (np.round(inv_M[j][k], 10) > np.round((inv_M[j][i] * inv_M[i][k]) / inv_M[i][i], 10)):\n",
    "                        print('j has access to k without passing through i but strict inequality does not hold')\n",
    "                        stop = 0\n",
    "                        break\n",
    "                    elif not(gh.access_to(g, j, k, i)) and not (np.round(inv_M[j][k], 10) == np.round((inv_M[j][i] * inv_M[i][k]) / inv_M[i][i], 10)):\n",
    "                        print('j has not access to k without passing through i but equation does not hold')\n",
    "                        stop = 0\n",
    "                        break\n",
    "                    elif (np.round(inv_M[j][k], 10) < np.round((inv_M[j][i] * inv_M[i][k]) / inv_M[i][i], 10)):\n",
    "                        print('inequality does not hold at all')\n",
    "                        stop = 0\n",
    "                        break\n",
    "\n",
    "    for j in range(new_inv_M.shape[0]):\n",
    "        for k in range(new_inv_M.shape[0]):\n",
    "            for i in range(new_inv_M.shape[0]):\n",
    "                if i!=j and i!=k and j!=k:\n",
    "                    if gh.access_to(ng, j, k, i) and not (np.round(new_inv_M[j][k], 10) > np.round((new_inv_M[j][i] * new_inv_M[i][k]) / new_inv_M[i][i], 10)):\n",
    "                        print('j has access to k without passing through i but strict inequality does not hold')\n",
    "                        stop = 0\n",
    "                        break\n",
    "                    elif not(gh.access_to(ng, j, k, i)) and not (np.round(new_inv_M[j][k], 10) == np.round((new_inv_M[j][i] * new_inv_M[i][k]) / new_inv_M[i][i], 10)):\n",
    "                        print('j has not access to k without passing through i but equation does not hold')\n",
    "                        stop = 0\n",
    "                        break\n",
    "                    elif (np.round(new_inv_M[j][k], 10) < np.round((new_inv_M[j][i] * new_inv_M[i][k]) / new_inv_M[i][i], 10)):\n",
    "                        print('inequality does not hold at all')\n",
    "                        stop = 0\n",
    "                        break\n",
    "\n",
    "    for j in range(inv_M.shape[0]):\n",
    "        for k in range(inv_M.shape[0]):\n",
    "            for i in range(inv_M.shape[0]):\n",
    "                if i!=j and i!=k and j!=k:\n",
    "                    if inv_M[i][i] == inv_M[j][i]:\n",
    "                        if gh.has_access_to(g, j, k, i) and not (np.round(inv_M[j][k]) == np.round(inv_M[i][k])):\n",
    "                            print('j has access to k in g without passing through i but equality does not hold')\n",
    "                            stop = 0\n",
    "                            break\n",
    "                        if not gh.has_access_to(g, j, k, i) and not (np.round(inv_M[j][k]) > np.round(inv_M[i][k])):\n",
    "                            print('j does not have acces to k in g without passing through i but strict inequality does not hold')\n",
    "                            stop = 0\n",
    "                            break\n",
    "                        else:\n",
    "                            print('something is not working')\n",
    "                            stop = 0\n",
    "                            break\n",
    "                    elif inv_M[i][i] == inv_M[i][k]:\n",
    "                        if gh.has_access_to(g, j, k, i) and not (np.round(inv_M[j][k]) == np.round(inv_M[j][i])):\n",
    "                            print('j has access to k in g without passing through i but equality does not hold')\n",
    "                            stop = 0\n",
    "                            break                        \n",
    "                        if not gh.has_access_to(g, j, k, i) and not (np.round(inv_M[j][k]) > np.round(inv_M[j][i])):\n",
    "                            print('j does not have acces to k in g without passing through i but strict inequality does not hold')\n",
    "                            stop = 0\n",
    "                            break                        \n",
    "                        else:\n",
    "                            print('something is not working')\n",
    "                            stop = 0\n",
    "                            break\n",
    "                    \n",
    "    for j in range(new_inv_M.shape[0]):\n",
    "        for k in range(new_inv_M.shape[0]):\n",
    "            for i in range(new_inv_M.shape[0]):\n",
    "                if i!=j and i!=k and j!=k:\n",
    "                    if new_inv_M[i][i] == new_inv_M[j][i]:\n",
    "                        if gh.has_access_to(ng, j, k, i) and not (np.round(new_inv_M[j][k]) == np.round(new_inv_M[i][k])):\n",
    "                            print('j has access to k in g without passing through i but equality does not hold')\n",
    "                            stop = 0\n",
    "                            break                        \n",
    "                        if not gh.has_access_to(ng, j, k, i) and not (np.round(new_inv_M[j][k]) > np.round(new_inv_M[i][k])):\n",
    "                            print('j does not have acces to k in g without passing through i but strict inequality does not hold')\n",
    "                            stop = 0\n",
    "                            break                        \n",
    "                        else:\n",
    "                            print('something is not working')\n",
    "                            stop = 0\n",
    "                            break                    \n",
    "                    elif new_inv_M[i][i] == new_inv_M[i][k]:\n",
    "                        if gh.has_access_to(ng, j, k, i) and not (np.round(new_inv_M[j][k]) == np.round(new_inv_M[j][i])):\n",
    "                            print('j has access to k in g without passing through i but equality does not hold')\n",
    "                            stop = 0\n",
    "                            break                        \n",
    "                        if not gh.has_access_to(ng, j, k, i) and not (np.round(new_inv_M[j][k]) > np.round(new_inv_M[j][i])):\n",
    "                            print('j does not have acces to k in g without passing through i but strict inequality does not hold')\n",
    "                            stop = 0\n",
    "                            break                        \n",
    "                        else:\n",
    "                            print('something is not working')\n",
    "                            stop = 0\n",
    "                            break\n",
    "    \n",
    "    iterations += 1\n",
    "\n",
    "# print(iterations)\n",
    "                    "
   ]
  }
 ],
 "metadata": {
  "kernelspec": {
   "display_name": "Python 3",
   "language": "python",
   "name": "python3"
  },
  "language_info": {
   "codemirror_mode": {
    "name": "ipython",
    "version": 3
   },
   "file_extension": ".py",
   "mimetype": "text/x-python",
   "name": "python",
   "nbconvert_exporter": "python",
   "pygments_lexer": "ipython3",
   "version": "3.8.6"
  }
 },
 "nbformat": 4,
 "nbformat_minor": 5
}
