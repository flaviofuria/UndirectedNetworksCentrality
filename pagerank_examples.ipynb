{
 "cells": [
  {
   "cell_type": "code",
   "execution_count": 1,
   "id": "eight-fitting",
   "metadata": {},
   "outputs": [],
   "source": [
    "import graph_handling as gh\n",
    "import centralities\n",
    "from pprint import pprint\n",
    "\n",
    "import networkx as nx\n",
    "import numpy as np\n",
    "import math\n",
    "import centralities"
   ]
  },
  {
   "cell_type": "code",
   "execution_count": 2,
   "id": "threaded-princess",
   "metadata": {},
   "outputs": [
    {
     "name": "stdout",
     "output_type": "stream",
     "text": [
      "We add an edge that links  0  and  4  and check PageRank difference\n"
     ]
    },
    {
     "data": {
      "image/png": "[encoded data removed]",
      "text/plain": [
       "<Figure size 432x288 with 1 Axes>"
      ]
     },
     "metadata": {},
     "output_type": "display_data"
    }
   ],
   "source": [
    "g, ng = gh.random_graphs(6)\n",
    "x, y = list(set(ng.edges) - set(g.edges))[0]\n",
    "print('We add an edge that links  ' + str(x) + '  and  ' + str(y) + '  and check PageRank difference')\n",
    "gh.show(g, x, y)"
   ]
  },
  {
   "cell_type": "markdown",
   "id": "incorporated-calculation",
   "metadata": {},
   "source": [
    "We compute PageRank vectors for both graphs, remembering that:<br>\n",
    "- $n$ is the number of nodes of our graph<br>\n",
    "- $\\alpha$ is the damping factor of PageRank<br>\n",
    "- $\\underline{v}$ is the preference vector<br>\n",
    "- $\\overline{A'}$ and $\\overline{A}$ are the two adjacency matrices of the graph with and without the new edge"
   ]
  },
  {
   "cell_type": "code",
   "execution_count": 3,
   "id": "outside-animal",
   "metadata": {},
   "outputs": [],
   "source": [
    "a = 0.85\n",
    "n = len(g.nodes)\n",
    "v_vec = np.array([1/n] * n, dtype=float)\n",
    "v = {int(i):elem for i,elem in enumerate(v_vec)}\n",
    "for k in v.keys():\n",
    "    v[k] = round(v[k],8)\n",
    "\n",
    "pr = centralities.pagerank(g, a, v)\n",
    "npr = centralities.pagerank(ng, a, v)\n",
    "pr_vec = np.array([elem[1] for elem in sorted(pr.items())])\n",
    "npr_vec = np.array([elem[1] for elem in sorted(npr.items())])"
   ]
  },
  {
   "cell_type": "markdown",
   "id": "approved-doctrine",
   "metadata": {},
   "source": [
    "We compute the two PageRank vectors: $\\;\\underline{r'}=\\underline{v}(1-\\alpha\\overline{A'})^{-1}\\;$ and $\\;\\underline{r}=\\underline{v}(1-\\alpha\\overline{A})^{-1}\\;$.<br>\n",
    "Note that we are ignoring the $(1-\\alpha)$ constant, and we will do the same for the rest of the computation, eventually putting it back in the end."
   ]
  },
  {
   "cell_type": "code",
   "execution_count": 4,
   "id": "compatible-combining",
   "metadata": {},
   "outputs": [],
   "source": [
    "A, A_norm = gh.adj_mat(g, False), gh.adj_mat(g, True)\n",
    "new_A, new_A_norm = gh.adj_mat(ng, False), gh.adj_mat(ng, True)\n",
    "\n",
    "pr_matrix = np.linalg.inv(np.identity(n) - a*A_norm)\n",
    "new_pr_matrix = np.linalg.inv(np.identity(n) - a*new_A_norm)"
   ]
  },
  {
   "cell_type": "markdown",
   "id": "auburn-french",
   "metadata": {},
   "source": [
    "From now on, we will check the math: if our function prints \"bad math\", we have made a mistake.<br>\n",
    "Calling $\\underline{r'}$ and $\\underline{r}$ the two PageRank vectors, we can start computing $\\Delta\\underline{r}=\\underline{r'}-\\underline{r}=\\underline{v}(1-\\alpha\\overline{A'})^{-1}-\\underline{v}(1-\\alpha\\overline{A})^{-1}$"
   ]
  },
  {
   "cell_type": "code",
   "execution_count": 5,
   "id": "aware-ensemble",
   "metadata": {},
   "outputs": [],
   "source": [
    "r_vec = np.dot(v_vec, pr_matrix)\n",
    "nr_vec = np.dot(v_vec, new_pr_matrix)\n",
    "\n",
    "delta_r = nr_vec - r_vec\n",
    "\n",
    "if not np.isclose((1/(1-a))*npr_vec - (1/(1-a))*pr_vec, delta_r, rtol=1e-5).any():\n",
    "    print('bad math')"
   ]
  },
  {
   "cell_type": "markdown",
   "id": "curious-baker",
   "metadata": {},
   "source": [
    "$U$, $C$, and $V$ are matrices that are well defined in the paper and that we use in order to define: $(1-\\alpha\\overline{A'})^{-1} = (1-\\alpha(\\overline{A}+UCV))^{-1} = (1-\\alpha\\overline{A}-\\alpha UCV)^{-1}=(B-\\alpha UCV)^{-1}$, $\\;\\;\\;$ with $B=1-\\alpha\\overline{A}$.<br>\n",
    "In the paper we made a mistake, adding $\\;\\alpha UCV\\;$ instead of subtracting it."
   ]
  },
  {
   "cell_type": "code",
   "execution_count": 6,
   "id": "experienced-treasure",
   "metadata": {},
   "outputs": [],
   "source": [
    "x_deg = (A[x]>0).sum()\n",
    "y_deg = (A[y]>0).sum()\n",
    "\n",
    "U = np.zeros((n, 2))\n",
    "U[x][0]=1\n",
    "U[y][1]=1\n",
    "C = np.array([[1/(x_deg**2+x_deg), 0], [0, 1/(y_deg**2+y_deg)]])\n",
    "V = np.array([[-1 if A[x][i]>0 else x_deg if i==y else 0 for i in range(n)],[-1 if A[y][i]>0 else y_deg if i==x else 0 for i in range(n)]])\n",
    "B = np.identity(n) - a*A_norm\n",
    "inv_B = np.linalg.inv(B)\n",
    "\n",
    "if not np.isclose(new_pr_matrix, np.linalg.inv(B - np.linalg.multi_dot((a*U, C, V))), rtol=1e-20).any():\n",
    "    print('bad math')"
   ]
  },
  {
   "cell_type": "markdown",
   "id": "electoral-keeping",
   "metadata": {},
   "source": [
    "Sherman-Morrison-Woodbury Formula: $(B+UCV)^{-1}=B^{-1}-B^{-1}U(C^{-1}+VB^{-1}U)^{-1}VB^{-1}$.<br>In our case, it becomes: $(B+(-\\alpha)UCV)^{-1}=B^{-1}-B^{-1}U((-\\alpha C)^{-1}+VB^{-1}U)^{-1}VB^{-1}$.<br>\n",
    "Let's check if it holds"
   ]
  },
  {
   "cell_type": "code",
   "execution_count": 7,
   "id": "chinese-beverage",
   "metadata": {},
   "outputs": [],
   "source": [
    "first = np.linalg.inv(B + np.linalg.multi_dot((U, -a*C, V)))\n",
    "smw_formula = inv_B - np.linalg.multi_dot((inv_B, U, np.linalg.inv(np.linalg.inv(-a*C) + np.linalg.multi_dot((V, inv_B, U))), V, inv_B))\n",
    "if not np.isclose(first, smw_formula,rtol=1e-10).any():\n",
    "    print('bad math')"
   ]
  },
  {
   "cell_type": "markdown",
   "id": "entertaining-toyota",
   "metadata": {},
   "source": [
    "We can now use the formula to study $\\Delta\\underline{r}$ . In particular, we want to assure that  $\\Delta\\underline{r}=\\underline{v}(B-\\alpha UCV)^{-1}-\\underline{v}B^{-1}$"
   ]
  },
  {
   "cell_type": "code",
   "execution_count": 8,
   "id": "moved-surrey",
   "metadata": {},
   "outputs": [],
   "source": [
    "temp = np.dot(v_vec, np.linalg.inv(B - a*np.linalg.multi_dot((U,C,V)))) - np.dot(v_vec, np.linalg.inv(B))\n",
    "if not np.isclose(delta_r, temp, rtol=1e-10).any():\n",
    "    print('bad math')"
   ]
  },
  {
   "cell_type": "markdown",
   "id": "dying-removal",
   "metadata": {},
   "source": [
    "Going to the next step, we apply the formula on $\\;(B+(-\\alpha)UCV)^{-1}\\;$ and check if $\\Delta\\underline{r}=\\underline{v}(B^{-1}-B^{-1}U((-\\alpha C)^{-1}+VB^{-1}U)^{-1}VB^{-1})-\\underline{r}$"
   ]
  },
  {
   "cell_type": "code",
   "execution_count": 9,
   "id": "friendly-papua",
   "metadata": {},
   "outputs": [],
   "source": [
    "if not np.isclose(delta_r, np.dot(v_vec, smw_formula) - r_vec, rtol=1e-10).any():\n",
    "    print('bad math')"
   ]
  },
  {
   "cell_type": "markdown",
   "id": "authentic-concert",
   "metadata": {},
   "source": [
    "Last step of the equation<br>\n",
    "$\\Delta\\underline{r}=-\\underline{v}(B^{-1}U((-\\alpha C)^{-1}+VB^{-1}U)^{-1}VB^{-1})=-\\underline{r}U((-\\alpha C)^{-1}+VB^{-1}U)^{-1}VB^{-1}$"
   ]
  },
  {
   "cell_type": "code",
   "execution_count": 10,
   "id": "electoral-stylus",
   "metadata": {},
   "outputs": [],
   "source": [
    "temp = np.linalg.multi_dot((inv_B, U, np.linalg.inv(np.linalg.inv(-a*C) + np.linalg.multi_dot((V, inv_B, U))), V, inv_B))\n",
    "temp2 = np.linalg.multi_dot((U, np.linalg.inv(np.linalg.inv(-a*C) + np.linalg.multi_dot((V, inv_B, U))), V, inv_B))\n",
    "\n",
    "if not np.isclose(delta_r, np.dot(-v_vec, temp), rtol=1e-10).any():\n",
    "    print('bad math')\n",
    "if not np.isclose(delta_r, np.dot(-r_vec, temp2), rtol=1e-10).any():\n",
    "    print('bad math')"
   ]
  },
  {
   "cell_type": "markdown",
   "id": "endless-roads",
   "metadata": {},
   "source": [
    "The math is correct. Now we want to look if there is a random graph for which $\\;\\Delta\\underline{r}_{x}\\leq 0\\;$ or $\\;\\Delta\\underline{r}_{y}\\leq 0\\;$."
   ]
  },
  {
   "cell_type": "code",
   "execution_count": 11,
   "id": "continent-romantic",
   "metadata": {
    "scrolled": true
   },
   "outputs": [
    {
     "name": "stdout",
     "output_type": "stream",
     "text": [
      "0\n",
      "error\n"
     ]
    }
   ],
   "source": [
    "i = 0\n",
    "while(i):\n",
    "    n, a = np.random.randint(5, 50), 0.85\n",
    "    v_vec = np.array([1/n] * n, dtype=float)\n",
    "    g, ng = gh.random_graphs(n)\n",
    "    x, y = list(set(ng.edges) - set(g.edges))[0]\n",
    "\n",
    "    if centralities.is_smw_right(g, x, y, a, v_vec):\n",
    "        i += 1\n",
    "print(i)\n",
    "print('error')\n"
   ]
  },
  {
   "cell_type": "code",
   "execution_count": 12,
   "id": "collectible-shower",
   "metadata": {
    "scrolled": true
   },
   "outputs": [],
   "source": [
    "i=0\n",
    "while(i):\n",
    "    n, a = np.random.randint(5, 50), 0.85\n",
    "    v_vec = np.array([1/n] * n, dtype=float)\n",
    "    g, ng = gh.random_graphs(n)\n",
    "    x, y = list(set(ng.edges) - set(g.edges))[0]\n",
    "    delta_r = centralities.delta_r(g, x, y, a, v_vec)\n",
    "    if delta_r[x]<=0 or delta_r[y]<=0:\n",
    "        print('found with my function')\n",
    "        break\n",
    "    \n",
    "    pr = nx.pagerank(g, a)\n",
    "    npr = nx.pagerank(ng, a)\n",
    "    pr_vec = np.array([elem[1] for elem in sorted(pr.items())])\n",
    "    npr_vec = np.array([elem[1] for elem in sorted(npr.items())])\n",
    "    \n",
    "    if (npr_vec - pr_vec)[x]<=0 or (npr_vec - pr_vec)[y]<=0:\n",
    "        print('found')\n",
    "        final_graph, new_final_graph, final_x, final_y = g, ng, x, y\n",
    "        break\n"
   ]
  },
  {
   "cell_type": "code",
   "execution_count": 13,
   "id": "italian-irish",
   "metadata": {
    "scrolled": false
   },
   "outputs": [
    {
     "ename": "NameError",
     "evalue": "name 'final_graph' is not defined",
     "output_type": "error",
     "traceback": [
      "\u001b[0;31m---------------------------------------------------------------------------\u001b[0m",
      "\u001b[0;31mNameError\u001b[0m                                 Traceback (most recent call last)",
      "\u001b[0;32m<ipython-input-13-00e9875e7166>\u001b[0m in \u001b[0;36m<module>\u001b[0;34m\u001b[0m\n\u001b[0;32m----> 1\u001b[0;31m \u001b[0mfinal_pagerank\u001b[0m \u001b[0;34m=\u001b[0m \u001b[0mnx\u001b[0m\u001b[0;34m.\u001b[0m\u001b[0mpagerank\u001b[0m\u001b[0;34m(\u001b[0m\u001b[0mfinal_graph\u001b[0m\u001b[0;34m)\u001b[0m\u001b[0;34m\u001b[0m\u001b[0;34m\u001b[0m\u001b[0m\n\u001b[0m\u001b[1;32m      2\u001b[0m \u001b[0mnew_final_pagerank\u001b[0m \u001b[0;34m=\u001b[0m \u001b[0mnx\u001b[0m\u001b[0;34m.\u001b[0m\u001b[0mpagerank\u001b[0m\u001b[0;34m(\u001b[0m\u001b[0mnew_final_graph\u001b[0m\u001b[0;34m)\u001b[0m\u001b[0;34m\u001b[0m\u001b[0;34m\u001b[0m\u001b[0m\n",
      "\u001b[0;31mNameError\u001b[0m: name 'final_graph' is not defined"
     ]
    }
   ],
   "source": [
    "final_pagerank = nx.pagerank(final_graph)\n",
    "new_final_pagerank = nx.pagerank(new_final_graph)"
   ]
  }
 ],
 "metadata": {
  "kernelspec": {
   "display_name": "Python 3",
   "language": "python",
   "name": "python3"
  },
  "language_info": {
   "codemirror_mode": {
    "name": "ipython",
    "version": 3
   },
   "file_extension": ".py",
   "mimetype": "text/x-python",
   "name": "python",
   "nbconvert_exporter": "python",
   "pygments_lexer": "ipython3",
   "version": "3.8.6"
  }
 },
 "nbformat": 4,
 "nbformat_minor": 5
}
